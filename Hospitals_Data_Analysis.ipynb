{
  "nbformat": 4,
  "nbformat_minor": 0,
  "metadata": {
    "colab": {
      "provenance": [],
      "authorship_tag": "ABX9TyMNvTlO/iT9UFlVvw4Xhn0g",
      "include_colab_link": true
    },
    "kernelspec": {
      "name": "python3",
      "display_name": "Python 3"
    },
    "language_info": {
      "name": "python"
    }
  },
  "cells": [
    {
      "cell_type": "markdown",
      "metadata": {
        "id": "view-in-github",
        "colab_type": "text"
      },
      "source": [
        "<a href=\"https://colab.research.google.com/github/Akhi1704/Hospitals_Data_Analysis/blob/main/Hospitals_Data_Analysis.ipynb\" target=\"_parent\"><img src=\"https://colab.research.google.com/assets/colab-badge.svg\" alt=\"Open In Colab\"/></a>"
      ]
    },
    {
      "cell_type": "markdown",
      "source": [
        "Data Analysis of the dataset Hospitals\n",
        "\n",
        "Dataset Link: https://corgis-edu.github.io/corgis/csv/hospitals/"
      ],
      "metadata": {
        "id": "MPPvf1OWnKvD"
      }
    },
    {
      "cell_type": "code",
      "execution_count": 4,
      "metadata": {
        "id": "fBvf7pjmbXNA"
      },
      "outputs": [],
      "source": [
        "import pandas as pd\n",
        "\n",
        "# Load the dataset\n",
        "df = pd.read_csv('hospitals.csv')\n"
      ]
    },
    {
      "cell_type": "code",
      "source": [
        "# Display the first few rows\n",
        "df.head()\n"
      ],
      "metadata": {
        "colab": {
          "base_uri": "https://localhost:8080/",
          "height": 429
        },
        "id": "PYMoIwXxbuz7",
        "outputId": "f2eb1d52-666b-4c4d-cb3b-d6525dff8951"
      },
      "execution_count": 5,
      "outputs": [
        {
          "output_type": "execute_result",
          "data": {
            "text/plain": [
              "                      Facility.Name Facility.City Facility.State  \\\n",
              "0  Southeast Alabama Medical Center        Dothan             AL   \n",
              "1     Marshall Medical Center South          Boaz             AL   \n",
              "2    Eliza Coffee Memorial Hospital      Florence             AL   \n",
              "3          Mizell Memorial Hospital           Opp             AL   \n",
              "4       Crenshaw Community Hospital       Luverne             AL   \n",
              "\n",
              "  Facility.Type  Rating.Overall Rating.Mortality Rating.Safety  \\\n",
              "0    Government               2            Below         Above   \n",
              "1    Government               1            Below         Below   \n",
              "2    Government               3            Below         Above   \n",
              "3       Private               1             Same          Same   \n",
              "4   Proprietary               4             Same           NaN   \n",
              "\n",
              "  Rating.Readmission Rating.Experience Rating.Effectiveness  ...  \\\n",
              "0              Below             Below                 Same  ...   \n",
              "1              Below              Same                Above  ...   \n",
              "2              Above             Below                 Same  ...   \n",
              "3              Below             Below                Below  ...   \n",
              "4              Above               NaN                 Same  ...   \n",
              "\n",
              "  Procedure.Heart Attack.Value Procedure.Heart Failure.Cost  \\\n",
              "0                      Average                        17041   \n",
              "1                      Average                        15819   \n",
              "2                      Average                        16334   \n",
              "3                      Unknown                        14541   \n",
              "4                      Unknown                        13767   \n",
              "\n",
              "   Procedure.Heart Failure.Quality Procedure.Heart Failure.Value  \\\n",
              "0                          Average                       Average   \n",
              "1                            Worse                       Average   \n",
              "2                          Average                       Average   \n",
              "3                          Average                         Lower   \n",
              "4                          Average                         Lower   \n",
              "\n",
              "  Procedure.Pneumonia.Cost  Procedure.Pneumonia.Quality  \\\n",
              "0                    18281                      Average   \n",
              "1                    15614                        Worse   \n",
              "2                    17371                      Average   \n",
              "3                    15226                        Worse   \n",
              "4                    14341                      Average   \n",
              "\n",
              "  Procedure.Pneumonia.Value Procedure.Hip Knee.Cost  \\\n",
              "0                   Average                   25812   \n",
              "1                     Lower                   22747   \n",
              "2                   Average                   24491   \n",
              "3                     Lower                   23472   \n",
              "4                     Lower                       0   \n",
              "\n",
              "   Procedure.Hip Knee.Quality Procedure.Hip Knee.Value  \n",
              "0                     Average                   Higher  \n",
              "1                     Average                  Average  \n",
              "2                     Average                   Higher  \n",
              "3                     Average                  Average  \n",
              "4                     Unknown                  Unknown  \n",
              "\n",
              "[5 rows x 24 columns]"
            ],
            "text/html": [
              "\n",
              "  <div id=\"df-48b7a836-772f-43e4-86e0-51efbd8d338c\" class=\"colab-df-container\">\n",
              "    <div>\n",
              "<style scoped>\n",
              "    .dataframe tbody tr th:only-of-type {\n",
              "        vertical-align: middle;\n",
              "    }\n",
              "\n",
              "    .dataframe tbody tr th {\n",
              "        vertical-align: top;\n",
              "    }\n",
              "\n",
              "    .dataframe thead th {\n",
              "        text-align: right;\n",
              "    }\n",
              "</style>\n",
              "<table border=\"1\" class=\"dataframe\">\n",
              "  <thead>\n",
              "    <tr style=\"text-align: right;\">\n",
              "      <th></th>\n",
              "      <th>Facility.Name</th>\n",
              "      <th>Facility.City</th>\n",
              "      <th>Facility.State</th>\n",
              "      <th>Facility.Type</th>\n",
              "      <th>Rating.Overall</th>\n",
              "      <th>Rating.Mortality</th>\n",
              "      <th>Rating.Safety</th>\n",
              "      <th>Rating.Readmission</th>\n",
              "      <th>Rating.Experience</th>\n",
              "      <th>Rating.Effectiveness</th>\n",
              "      <th>...</th>\n",
              "      <th>Procedure.Heart Attack.Value</th>\n",
              "      <th>Procedure.Heart Failure.Cost</th>\n",
              "      <th>Procedure.Heart Failure.Quality</th>\n",
              "      <th>Procedure.Heart Failure.Value</th>\n",
              "      <th>Procedure.Pneumonia.Cost</th>\n",
              "      <th>Procedure.Pneumonia.Quality</th>\n",
              "      <th>Procedure.Pneumonia.Value</th>\n",
              "      <th>Procedure.Hip Knee.Cost</th>\n",
              "      <th>Procedure.Hip Knee.Quality</th>\n",
              "      <th>Procedure.Hip Knee.Value</th>\n",
              "    </tr>\n",
              "  </thead>\n",
              "  <tbody>\n",
              "    <tr>\n",
              "      <th>0</th>\n",
              "      <td>Southeast Alabama Medical Center</td>\n",
              "      <td>Dothan</td>\n",
              "      <td>AL</td>\n",
              "      <td>Government</td>\n",
              "      <td>2</td>\n",
              "      <td>Below</td>\n",
              "      <td>Above</td>\n",
              "      <td>Below</td>\n",
              "      <td>Below</td>\n",
              "      <td>Same</td>\n",
              "      <td>...</td>\n",
              "      <td>Average</td>\n",
              "      <td>17041</td>\n",
              "      <td>Average</td>\n",
              "      <td>Average</td>\n",
              "      <td>18281</td>\n",
              "      <td>Average</td>\n",
              "      <td>Average</td>\n",
              "      <td>25812</td>\n",
              "      <td>Average</td>\n",
              "      <td>Higher</td>\n",
              "    </tr>\n",
              "    <tr>\n",
              "      <th>1</th>\n",
              "      <td>Marshall Medical Center South</td>\n",
              "      <td>Boaz</td>\n",
              "      <td>AL</td>\n",
              "      <td>Government</td>\n",
              "      <td>1</td>\n",
              "      <td>Below</td>\n",
              "      <td>Below</td>\n",
              "      <td>Below</td>\n",
              "      <td>Same</td>\n",
              "      <td>Above</td>\n",
              "      <td>...</td>\n",
              "      <td>Average</td>\n",
              "      <td>15819</td>\n",
              "      <td>Worse</td>\n",
              "      <td>Average</td>\n",
              "      <td>15614</td>\n",
              "      <td>Worse</td>\n",
              "      <td>Lower</td>\n",
              "      <td>22747</td>\n",
              "      <td>Average</td>\n",
              "      <td>Average</td>\n",
              "    </tr>\n",
              "    <tr>\n",
              "      <th>2</th>\n",
              "      <td>Eliza Coffee Memorial Hospital</td>\n",
              "      <td>Florence</td>\n",
              "      <td>AL</td>\n",
              "      <td>Government</td>\n",
              "      <td>3</td>\n",
              "      <td>Below</td>\n",
              "      <td>Above</td>\n",
              "      <td>Above</td>\n",
              "      <td>Below</td>\n",
              "      <td>Same</td>\n",
              "      <td>...</td>\n",
              "      <td>Average</td>\n",
              "      <td>16334</td>\n",
              "      <td>Average</td>\n",
              "      <td>Average</td>\n",
              "      <td>17371</td>\n",
              "      <td>Average</td>\n",
              "      <td>Average</td>\n",
              "      <td>24491</td>\n",
              "      <td>Average</td>\n",
              "      <td>Higher</td>\n",
              "    </tr>\n",
              "    <tr>\n",
              "      <th>3</th>\n",
              "      <td>Mizell Memorial Hospital</td>\n",
              "      <td>Opp</td>\n",
              "      <td>AL</td>\n",
              "      <td>Private</td>\n",
              "      <td>1</td>\n",
              "      <td>Same</td>\n",
              "      <td>Same</td>\n",
              "      <td>Below</td>\n",
              "      <td>Below</td>\n",
              "      <td>Below</td>\n",
              "      <td>...</td>\n",
              "      <td>Unknown</td>\n",
              "      <td>14541</td>\n",
              "      <td>Average</td>\n",
              "      <td>Lower</td>\n",
              "      <td>15226</td>\n",
              "      <td>Worse</td>\n",
              "      <td>Lower</td>\n",
              "      <td>23472</td>\n",
              "      <td>Average</td>\n",
              "      <td>Average</td>\n",
              "    </tr>\n",
              "    <tr>\n",
              "      <th>4</th>\n",
              "      <td>Crenshaw Community Hospital</td>\n",
              "      <td>Luverne</td>\n",
              "      <td>AL</td>\n",
              "      <td>Proprietary</td>\n",
              "      <td>4</td>\n",
              "      <td>Same</td>\n",
              "      <td>NaN</td>\n",
              "      <td>Above</td>\n",
              "      <td>NaN</td>\n",
              "      <td>Same</td>\n",
              "      <td>...</td>\n",
              "      <td>Unknown</td>\n",
              "      <td>13767</td>\n",
              "      <td>Average</td>\n",
              "      <td>Lower</td>\n",
              "      <td>14341</td>\n",
              "      <td>Average</td>\n",
              "      <td>Lower</td>\n",
              "      <td>0</td>\n",
              "      <td>Unknown</td>\n",
              "      <td>Unknown</td>\n",
              "    </tr>\n",
              "  </tbody>\n",
              "</table>\n",
              "<p>5 rows × 24 columns</p>\n",
              "</div>\n",
              "    <div class=\"colab-df-buttons\">\n",
              "\n",
              "  <div class=\"colab-df-container\">\n",
              "    <button class=\"colab-df-convert\" onclick=\"convertToInteractive('df-48b7a836-772f-43e4-86e0-51efbd8d338c')\"\n",
              "            title=\"Convert this dataframe to an interactive table.\"\n",
              "            style=\"display:none;\">\n",
              "\n",
              "  <svg xmlns=\"http://www.w3.org/2000/svg\" height=\"24px\" viewBox=\"0 -960 960 960\">\n",
              "    <path d=\"M120-120v-720h720v720H120Zm60-500h600v-160H180v160Zm220 220h160v-160H400v160Zm0 220h160v-160H400v160ZM180-400h160v-160H180v160Zm440 0h160v-160H620v160ZM180-180h160v-160H180v160Zm440 0h160v-160H620v160Z\"/>\n",
              "  </svg>\n",
              "    </button>\n",
              "\n",
              "  <style>\n",
              "    .colab-df-container {\n",
              "      display:flex;\n",
              "      gap: 12px;\n",
              "    }\n",
              "\n",
              "    .colab-df-convert {\n",
              "      background-color: #E8F0FE;\n",
              "      border: none;\n",
              "      border-radius: 50%;\n",
              "      cursor: pointer;\n",
              "      display: none;\n",
              "      fill: #1967D2;\n",
              "      height: 32px;\n",
              "      padding: 0 0 0 0;\n",
              "      width: 32px;\n",
              "    }\n",
              "\n",
              "    .colab-df-convert:hover {\n",
              "      background-color: #E2EBFA;\n",
              "      box-shadow: 0px 1px 2px rgba(60, 64, 67, 0.3), 0px 1px 3px 1px rgba(60, 64, 67, 0.15);\n",
              "      fill: #174EA6;\n",
              "    }\n",
              "\n",
              "    .colab-df-buttons div {\n",
              "      margin-bottom: 4px;\n",
              "    }\n",
              "\n",
              "    [theme=dark] .colab-df-convert {\n",
              "      background-color: #3B4455;\n",
              "      fill: #D2E3FC;\n",
              "    }\n",
              "\n",
              "    [theme=dark] .colab-df-convert:hover {\n",
              "      background-color: #434B5C;\n",
              "      box-shadow: 0px 1px 3px 1px rgba(0, 0, 0, 0.15);\n",
              "      filter: drop-shadow(0px 1px 2px rgba(0, 0, 0, 0.3));\n",
              "      fill: #FFFFFF;\n",
              "    }\n",
              "  </style>\n",
              "\n",
              "    <script>\n",
              "      const buttonEl =\n",
              "        document.querySelector('#df-48b7a836-772f-43e4-86e0-51efbd8d338c button.colab-df-convert');\n",
              "      buttonEl.style.display =\n",
              "        google.colab.kernel.accessAllowed ? 'block' : 'none';\n",
              "\n",
              "      async function convertToInteractive(key) {\n",
              "        const element = document.querySelector('#df-48b7a836-772f-43e4-86e0-51efbd8d338c');\n",
              "        const dataTable =\n",
              "          await google.colab.kernel.invokeFunction('convertToInteractive',\n",
              "                                                    [key], {});\n",
              "        if (!dataTable) return;\n",
              "\n",
              "        const docLinkHtml = 'Like what you see? Visit the ' +\n",
              "          '<a target=\"_blank\" href=https://colab.research.google.com/notebooks/data_table.ipynb>data table notebook</a>'\n",
              "          + ' to learn more about interactive tables.';\n",
              "        element.innerHTML = '';\n",
              "        dataTable['output_type'] = 'display_data';\n",
              "        await google.colab.output.renderOutput(dataTable, element);\n",
              "        const docLink = document.createElement('div');\n",
              "        docLink.innerHTML = docLinkHtml;\n",
              "        element.appendChild(docLink);\n",
              "      }\n",
              "    </script>\n",
              "  </div>\n",
              "\n",
              "\n",
              "<div id=\"df-081867a3-9133-4bfc-82d1-d169e3787f0c\">\n",
              "  <button class=\"colab-df-quickchart\" onclick=\"quickchart('df-081867a3-9133-4bfc-82d1-d169e3787f0c')\"\n",
              "            title=\"Suggest charts\"\n",
              "            style=\"display:none;\">\n",
              "\n",
              "<svg xmlns=\"http://www.w3.org/2000/svg\" height=\"24px\"viewBox=\"0 0 24 24\"\n",
              "     width=\"24px\">\n",
              "    <g>\n",
              "        <path d=\"M19 3H5c-1.1 0-2 .9-2 2v14c0 1.1.9 2 2 2h14c1.1 0 2-.9 2-2V5c0-1.1-.9-2-2-2zM9 17H7v-7h2v7zm4 0h-2V7h2v10zm4 0h-2v-4h2v4z\"/>\n",
              "    </g>\n",
              "</svg>\n",
              "  </button>\n",
              "\n",
              "<style>\n",
              "  .colab-df-quickchart {\n",
              "      --bg-color: #E8F0FE;\n",
              "      --fill-color: #1967D2;\n",
              "      --hover-bg-color: #E2EBFA;\n",
              "      --hover-fill-color: #174EA6;\n",
              "      --disabled-fill-color: #AAA;\n",
              "      --disabled-bg-color: #DDD;\n",
              "  }\n",
              "\n",
              "  [theme=dark] .colab-df-quickchart {\n",
              "      --bg-color: #3B4455;\n",
              "      --fill-color: #D2E3FC;\n",
              "      --hover-bg-color: #434B5C;\n",
              "      --hover-fill-color: #FFFFFF;\n",
              "      --disabled-bg-color: #3B4455;\n",
              "      --disabled-fill-color: #666;\n",
              "  }\n",
              "\n",
              "  .colab-df-quickchart {\n",
              "    background-color: var(--bg-color);\n",
              "    border: none;\n",
              "    border-radius: 50%;\n",
              "    cursor: pointer;\n",
              "    display: none;\n",
              "    fill: var(--fill-color);\n",
              "    height: 32px;\n",
              "    padding: 0;\n",
              "    width: 32px;\n",
              "  }\n",
              "\n",
              "  .colab-df-quickchart:hover {\n",
              "    background-color: var(--hover-bg-color);\n",
              "    box-shadow: 0 1px 2px rgba(60, 64, 67, 0.3), 0 1px 3px 1px rgba(60, 64, 67, 0.15);\n",
              "    fill: var(--button-hover-fill-color);\n",
              "  }\n",
              "\n",
              "  .colab-df-quickchart-complete:disabled,\n",
              "  .colab-df-quickchart-complete:disabled:hover {\n",
              "    background-color: var(--disabled-bg-color);\n",
              "    fill: var(--disabled-fill-color);\n",
              "    box-shadow: none;\n",
              "  }\n",
              "\n",
              "  .colab-df-spinner {\n",
              "    border: 2px solid var(--fill-color);\n",
              "    border-color: transparent;\n",
              "    border-bottom-color: var(--fill-color);\n",
              "    animation:\n",
              "      spin 1s steps(1) infinite;\n",
              "  }\n",
              "\n",
              "  @keyframes spin {\n",
              "    0% {\n",
              "      border-color: transparent;\n",
              "      border-bottom-color: var(--fill-color);\n",
              "      border-left-color: var(--fill-color);\n",
              "    }\n",
              "    20% {\n",
              "      border-color: transparent;\n",
              "      border-left-color: var(--fill-color);\n",
              "      border-top-color: var(--fill-color);\n",
              "    }\n",
              "    30% {\n",
              "      border-color: transparent;\n",
              "      border-left-color: var(--fill-color);\n",
              "      border-top-color: var(--fill-color);\n",
              "      border-right-color: var(--fill-color);\n",
              "    }\n",
              "    40% {\n",
              "      border-color: transparent;\n",
              "      border-right-color: var(--fill-color);\n",
              "      border-top-color: var(--fill-color);\n",
              "    }\n",
              "    60% {\n",
              "      border-color: transparent;\n",
              "      border-right-color: var(--fill-color);\n",
              "    }\n",
              "    80% {\n",
              "      border-color: transparent;\n",
              "      border-right-color: var(--fill-color);\n",
              "      border-bottom-color: var(--fill-color);\n",
              "    }\n",
              "    90% {\n",
              "      border-color: transparent;\n",
              "      border-bottom-color: var(--fill-color);\n",
              "    }\n",
              "  }\n",
              "</style>\n",
              "\n",
              "  <script>\n",
              "    async function quickchart(key) {\n",
              "      const quickchartButtonEl =\n",
              "        document.querySelector('#' + key + ' button');\n",
              "      quickchartButtonEl.disabled = true;  // To prevent multiple clicks.\n",
              "      quickchartButtonEl.classList.add('colab-df-spinner');\n",
              "      try {\n",
              "        const charts = await google.colab.kernel.invokeFunction(\n",
              "            'suggestCharts', [key], {});\n",
              "      } catch (error) {\n",
              "        console.error('Error during call to suggestCharts:', error);\n",
              "      }\n",
              "      quickchartButtonEl.classList.remove('colab-df-spinner');\n",
              "      quickchartButtonEl.classList.add('colab-df-quickchart-complete');\n",
              "    }\n",
              "    (() => {\n",
              "      let quickchartButtonEl =\n",
              "        document.querySelector('#df-081867a3-9133-4bfc-82d1-d169e3787f0c button');\n",
              "      quickchartButtonEl.style.display =\n",
              "        google.colab.kernel.accessAllowed ? 'block' : 'none';\n",
              "    })();\n",
              "  </script>\n",
              "</div>\n",
              "\n",
              "    </div>\n",
              "  </div>\n"
            ],
            "application/vnd.google.colaboratory.intrinsic+json": {
              "type": "dataframe",
              "variable_name": "df"
            }
          },
          "metadata": {},
          "execution_count": 5
        }
      ]
    },
    {
      "cell_type": "code",
      "source": [
        "# Get summary statistics and data types\n",
        "print(df.info())"
      ],
      "metadata": {
        "colab": {
          "base_uri": "https://localhost:8080/"
        },
        "id": "P3Vq304Ub3H1",
        "outputId": "22d11ea7-d6ff-4de1-c851-439896c2cf29"
      },
      "execution_count": 6,
      "outputs": [
        {
          "output_type": "stream",
          "name": "stdout",
          "text": [
            "<class 'pandas.core.frame.DataFrame'>\n",
            "RangeIndex: 4772 entries, 0 to 4771\n",
            "Data columns (total 24 columns):\n",
            " #   Column                           Non-Null Count  Dtype \n",
            "---  ------                           --------------  ----- \n",
            " 0   Facility.Name                    4772 non-null   object\n",
            " 1   Facility.City                    4772 non-null   object\n",
            " 2   Facility.State                   4772 non-null   object\n",
            " 3   Facility.Type                    4772 non-null   object\n",
            " 4   Rating.Overall                   4772 non-null   int64 \n",
            " 5   Rating.Mortality                 3397 non-null   object\n",
            " 6   Rating.Safety                    2630 non-null   object\n",
            " 7   Rating.Readmission               3872 non-null   object\n",
            " 8   Rating.Experience                3432 non-null   object\n",
            " 9   Rating.Effectiveness             3834 non-null   object\n",
            " 10  Rating.Timeliness                3759 non-null   object\n",
            " 11  Rating.Imaging                   3054 non-null   object\n",
            " 12  Procedure.Heart Attack.Cost      4772 non-null   int64 \n",
            " 13  Procedure.Heart Attack.Quality   4772 non-null   object\n",
            " 14  Procedure.Heart Attack.Value     4772 non-null   object\n",
            " 15  Procedure.Heart Failure.Cost     4772 non-null   int64 \n",
            " 16  Procedure.Heart Failure.Quality  4772 non-null   object\n",
            " 17  Procedure.Heart Failure.Value    4772 non-null   object\n",
            " 18  Procedure.Pneumonia.Cost         4772 non-null   int64 \n",
            " 19  Procedure.Pneumonia.Quality      4772 non-null   object\n",
            " 20  Procedure.Pneumonia.Value        4772 non-null   object\n",
            " 21  Procedure.Hip Knee.Cost          4772 non-null   int64 \n",
            " 22  Procedure.Hip Knee.Quality       4772 non-null   object\n",
            " 23  Procedure.Hip Knee.Value         4772 non-null   object\n",
            "dtypes: int64(5), object(19)\n",
            "memory usage: 894.9+ KB\n",
            "None\n"
          ]
        }
      ]
    },
    {
      "cell_type": "code",
      "source": [
        "print(df.describe())"
      ],
      "metadata": {
        "colab": {
          "base_uri": "https://localhost:8080/"
        },
        "id": "IiKznhZob7qj",
        "outputId": "23bcfa47-66cc-417e-eefc-9bb631323ac2"
      },
      "execution_count": 7,
      "outputs": [
        {
          "output_type": "stream",
          "name": "stdout",
          "text": [
            "       Rating.Overall  Procedure.Heart Attack.Cost  \\\n",
            "count     4772.000000                  4772.000000   \n",
            "mean         2.179380                 11360.977997   \n",
            "std          1.935582                 11988.404171   \n",
            "min         -1.000000                     0.000000   \n",
            "25%          1.000000                     0.000000   \n",
            "50%          3.000000                     0.000000   \n",
            "75%          4.000000                 23764.250000   \n",
            "max          5.000000                 29670.000000   \n",
            "\n",
            "       Procedure.Heart Failure.Cost  Procedure.Pneumonia.Cost  \\\n",
            "count                   4772.000000               4772.000000   \n",
            "mean                   12149.034367              14625.655071   \n",
            "std                     7502.579223               6598.128266   \n",
            "min                        0.000000                  0.000000   \n",
            "25%                        0.000000              15169.500000   \n",
            "50%                    15921.500000              16933.500000   \n",
            "75%                    17126.500000              18245.000000   \n",
            "max                    22450.000000              27126.000000   \n",
            "\n",
            "       Procedure.Hip Knee.Cost  \n",
            "count              4772.000000  \n",
            "mean              12501.068525  \n",
            "std               10997.181810  \n",
            "min                   0.000000  \n",
            "25%                   0.000000  \n",
            "50%               19120.000000  \n",
            "75%               21985.500000  \n",
            "max               42546.000000  \n"
          ]
        }
      ]
    },
    {
      "cell_type": "code",
      "source": [
        "# Check for missing values\n",
        "print(df.isna().sum())\n"
      ],
      "metadata": {
        "colab": {
          "base_uri": "https://localhost:8080/"
        },
        "id": "Z4E2s4K5b_Zj",
        "outputId": "b16929cf-27a7-4177-9af9-11855acf8d1d"
      },
      "execution_count": 8,
      "outputs": [
        {
          "output_type": "stream",
          "name": "stdout",
          "text": [
            "Facility.Name                         0\n",
            "Facility.City                         0\n",
            "Facility.State                        0\n",
            "Facility.Type                         0\n",
            "Rating.Overall                        0\n",
            "Rating.Mortality                   1375\n",
            "Rating.Safety                      2142\n",
            "Rating.Readmission                  900\n",
            "Rating.Experience                  1340\n",
            "Rating.Effectiveness                938\n",
            "Rating.Timeliness                  1013\n",
            "Rating.Imaging                     1718\n",
            "Procedure.Heart Attack.Cost           0\n",
            "Procedure.Heart Attack.Quality        0\n",
            "Procedure.Heart Attack.Value          0\n",
            "Procedure.Heart Failure.Cost          0\n",
            "Procedure.Heart Failure.Quality       0\n",
            "Procedure.Heart Failure.Value         0\n",
            "Procedure.Pneumonia.Cost              0\n",
            "Procedure.Pneumonia.Quality           0\n",
            "Procedure.Pneumonia.Value             0\n",
            "Procedure.Hip Knee.Cost               0\n",
            "Procedure.Hip Knee.Quality            0\n",
            "Procedure.Hip Knee.Value              0\n",
            "dtype: int64\n"
          ]
        }
      ]
    },
    {
      "cell_type": "code",
      "source": [
        "df.isna().any()"
      ],
      "metadata": {
        "colab": {
          "base_uri": "https://localhost:8080/"
        },
        "id": "ErETFXIyckjT",
        "outputId": "ecdaba79-9635-44d6-9584-b63bc6fd5c00"
      },
      "execution_count": 9,
      "outputs": [
        {
          "output_type": "execute_result",
          "data": {
            "text/plain": [
              "Facility.Name                      False\n",
              "Facility.City                      False\n",
              "Facility.State                     False\n",
              "Facility.Type                      False\n",
              "Rating.Overall                     False\n",
              "Rating.Mortality                    True\n",
              "Rating.Safety                       True\n",
              "Rating.Readmission                  True\n",
              "Rating.Experience                   True\n",
              "Rating.Effectiveness                True\n",
              "Rating.Timeliness                   True\n",
              "Rating.Imaging                      True\n",
              "Procedure.Heart Attack.Cost        False\n",
              "Procedure.Heart Attack.Quality     False\n",
              "Procedure.Heart Attack.Value       False\n",
              "Procedure.Heart Failure.Cost       False\n",
              "Procedure.Heart Failure.Quality    False\n",
              "Procedure.Heart Failure.Value      False\n",
              "Procedure.Pneumonia.Cost           False\n",
              "Procedure.Pneumonia.Quality        False\n",
              "Procedure.Pneumonia.Value          False\n",
              "Procedure.Hip Knee.Cost            False\n",
              "Procedure.Hip Knee.Quality         False\n",
              "Procedure.Hip Knee.Value           False\n",
              "dtype: bool"
            ]
          },
          "metadata": {},
          "execution_count": 9
        }
      ]
    },
    {
      "cell_type": "code",
      "source": [
        "# Display the number of missing values in each column\n",
        "print(df[['Rating.Mortality', 'Rating.Safety', 'Rating.Readmission', 'Rating.Experience',\n",
        "          'Rating.Effectiveness', 'Rating.Timeliness', 'Rating.Imaging']].isna().sum())\n"
      ],
      "metadata": {
        "colab": {
          "base_uri": "https://localhost:8080/"
        },
        "id": "bF7GGd4EdT05",
        "outputId": "16119952-b2bb-44cc-8b27-01b7bccb48a3"
      },
      "execution_count": 10,
      "outputs": [
        {
          "output_type": "stream",
          "name": "stdout",
          "text": [
            "Rating.Mortality        1375\n",
            "Rating.Safety           2142\n",
            "Rating.Readmission       900\n",
            "Rating.Experience       1340\n",
            "Rating.Effectiveness     938\n",
            "Rating.Timeliness       1013\n",
            "Rating.Imaging          1718\n",
            "dtype: int64\n"
          ]
        }
      ]
    },
    {
      "cell_type": "code",
      "source": [
        "for column in ['Rating.Mortality', 'Rating.Safety', 'Rating.Readmission',\n",
        "               'Rating.Experience', 'Rating.Effectiveness', 'Rating.Timeliness',\n",
        "               'Rating.Imaging']:\n",
        "    # Check if column exists and has data\n",
        "    if column in df.columns:\n",
        "        mode_value = df[column].mode()\n",
        "        if not mode_value.empty:\n",
        "            print(f\"Mode for {column}: {mode_value[0]}\")\n",
        "        else:\n",
        "            print(f\"No mode found for {column}\")\n",
        "    else:\n",
        "        print(f\"Column {column} not found in DataFrame\")\n"
      ],
      "metadata": {
        "colab": {
          "base_uri": "https://localhost:8080/"
        },
        "id": "_VDQYLDgR0XY",
        "outputId": "d280ea7b-b0f9-44cc-a7b6-2034f282557a"
      },
      "execution_count": 11,
      "outputs": [
        {
          "output_type": "stream",
          "name": "stdout",
          "text": [
            "Mode for Rating.Mortality: Same\n",
            "Mode for Rating.Safety: Above\n",
            "Mode for Rating.Readmission: Above\n",
            "Mode for Rating.Experience: Above\n",
            "Mode for Rating.Effectiveness: Same\n",
            "Mode for Rating.Timeliness: Same\n",
            "Mode for Rating.Imaging: Same\n"
          ]
        }
      ]
    },
    {
      "cell_type": "code",
      "source": [
        "for column in ['Rating.Mortality', 'Rating.Safety', 'Rating.Readmission',\n",
        "               'Rating.Experience', 'Rating.Effectiveness', 'Rating.Timeliness',\n",
        "               'Rating.Imaging']:\n",
        "    if column in df.columns:\n",
        "        mode_value = df[column].mode()\n",
        "        if not mode_value.empty:\n",
        "            mode_value = mode_value[0]\n",
        "            df[column] = df[column].fillna(mode_value)\n",
        "        else:\n",
        "            print(f\"No mode to fill missing values for {column}\")\n",
        "    else:\n",
        "        print(f\"Column {column} not found in DataFrame\")\n"
      ],
      "metadata": {
        "id": "kFv4t4MaSk8A"
      },
      "execution_count": 12,
      "outputs": []
    },
    {
      "cell_type": "code",
      "source": [
        "# Check if the column has data\n",
        "print(df['Rating.Mortality'].isna().sum())  # Number of missing values\n",
        "print(df['Rating.Mortality'].unique())     # Unique values in the column\n"
      ],
      "metadata": {
        "colab": {
          "base_uri": "https://localhost:8080/"
        },
        "id": "Wm58GdjRS-d-",
        "outputId": "d3fb97b6-d855-42e3-a1c7-d8dbcc023a47"
      },
      "execution_count": 13,
      "outputs": [
        {
          "output_type": "stream",
          "name": "stdout",
          "text": [
            "0\n",
            "['Below' 'Same' 'Above']\n"
          ]
        }
      ]
    },
    {
      "cell_type": "code",
      "source": [
        "df.info()"
      ],
      "metadata": {
        "colab": {
          "base_uri": "https://localhost:8080/"
        },
        "id": "fEUghAHWUXZM",
        "outputId": "d13559ea-93e8-494e-c59b-0321f4eed661"
      },
      "execution_count": 14,
      "outputs": [
        {
          "output_type": "stream",
          "name": "stdout",
          "text": [
            "<class 'pandas.core.frame.DataFrame'>\n",
            "RangeIndex: 4772 entries, 0 to 4771\n",
            "Data columns (total 24 columns):\n",
            " #   Column                           Non-Null Count  Dtype \n",
            "---  ------                           --------------  ----- \n",
            " 0   Facility.Name                    4772 non-null   object\n",
            " 1   Facility.City                    4772 non-null   object\n",
            " 2   Facility.State                   4772 non-null   object\n",
            " 3   Facility.Type                    4772 non-null   object\n",
            " 4   Rating.Overall                   4772 non-null   int64 \n",
            " 5   Rating.Mortality                 4772 non-null   object\n",
            " 6   Rating.Safety                    4772 non-null   object\n",
            " 7   Rating.Readmission               4772 non-null   object\n",
            " 8   Rating.Experience                4772 non-null   object\n",
            " 9   Rating.Effectiveness             4772 non-null   object\n",
            " 10  Rating.Timeliness                4772 non-null   object\n",
            " 11  Rating.Imaging                   4772 non-null   object\n",
            " 12  Procedure.Heart Attack.Cost      4772 non-null   int64 \n",
            " 13  Procedure.Heart Attack.Quality   4772 non-null   object\n",
            " 14  Procedure.Heart Attack.Value     4772 non-null   object\n",
            " 15  Procedure.Heart Failure.Cost     4772 non-null   int64 \n",
            " 16  Procedure.Heart Failure.Quality  4772 non-null   object\n",
            " 17  Procedure.Heart Failure.Value    4772 non-null   object\n",
            " 18  Procedure.Pneumonia.Cost         4772 non-null   int64 \n",
            " 19  Procedure.Pneumonia.Quality      4772 non-null   object\n",
            " 20  Procedure.Pneumonia.Value        4772 non-null   object\n",
            " 21  Procedure.Hip Knee.Cost          4772 non-null   int64 \n",
            " 22  Procedure.Hip Knee.Quality       4772 non-null   object\n",
            " 23  Procedure.Hip Knee.Value         4772 non-null   object\n",
            "dtypes: int64(5), object(19)\n",
            "memory usage: 894.9+ KB\n"
          ]
        }
      ]
    },
    {
      "cell_type": "code",
      "source": [
        "# Check if columns are of type int\n",
        "print(df[['Procedure.Heart Attack.Cost', 'Procedure.Heart Failure.Cost', 'Procedure.Pneumonia.Cost', 'Procedure.Hip Knee.Cost']].dtypes)\n"
      ],
      "metadata": {
        "colab": {
          "base_uri": "https://localhost:8080/"
        },
        "id": "l3dLU_mVftZ7",
        "outputId": "5c635a78-da3b-4ec8-da99-50ea39d0a343"
      },
      "execution_count": 15,
      "outputs": [
        {
          "output_type": "stream",
          "name": "stdout",
          "text": [
            "Procedure.Heart Attack.Cost     int64\n",
            "Procedure.Heart Failure.Cost    int64\n",
            "Procedure.Pneumonia.Cost        int64\n",
            "Procedure.Hip Knee.Cost         int64\n",
            "dtype: object\n"
          ]
        }
      ]
    },
    {
      "cell_type": "code",
      "source": [
        "# Check unique values in categorical columns to validate data\n",
        "print(df[['Rating.Safety', 'Rating.Readmission', 'Rating.Experience', 'Rating.Effectiveness', 'Rating.Timeliness', 'Rating.Imaging']].nunique())\n",
        "print(df[['Procedure.Heart Attack.Quality', 'Procedure.Heart Failure.Quality', 'Procedure.Pneumonia.Quality', 'Procedure.Hip Knee.Quality']].nunique())\n"
      ],
      "metadata": {
        "colab": {
          "base_uri": "https://localhost:8080/"
        },
        "id": "nnHR-WNfTY79",
        "outputId": "8622ddde-2a72-45ff-9b9c-f89b39801b30"
      },
      "execution_count": 18,
      "outputs": [
        {
          "output_type": "stream",
          "name": "stdout",
          "text": [
            "Rating.Safety           3\n",
            "Rating.Readmission      3\n",
            "Rating.Experience       3\n",
            "Rating.Effectiveness    3\n",
            "Rating.Timeliness       3\n",
            "Rating.Imaging          3\n",
            "dtype: int64\n",
            "Procedure.Heart Attack.Quality     4\n",
            "Procedure.Heart Failure.Quality    4\n",
            "Procedure.Pneumonia.Quality        4\n",
            "Procedure.Hip Knee.Quality         4\n",
            "dtype: int64\n"
          ]
        }
      ]
    },
    {
      "cell_type": "code",
      "source": [
        "# Convert categorical ratings to a numeric scale if needed\n",
        "# Assuming ratings are on a scale (e.g., 1 to 5), you might need to map them accordingly\n",
        "rating_mapping = {\n",
        "    'Very Poor': 1,\n",
        "    'Poor': 2,\n",
        "    'Average': 3,\n",
        "    'Good': 4,\n",
        "    'Excellent': 5\n",
        "}\n",
        "\n",
        "df['Rating.Safety'] = df['Rating.Safety'].map(rating_mapping)\n",
        "df['Rating.Readmission'] = df['Rating.Readmission'].map(rating_mapping)\n",
        "df['Rating.Experience'] = df['Rating.Experience'].map(rating_mapping)\n",
        "df['Rating.Effectiveness'] = df['Rating.Effectiveness'].map(rating_mapping)\n",
        "df['Rating.Timeliness'] = df['Rating.Timeliness'].map(rating_mapping)\n",
        "df['Rating.Imaging'] = df['Rating.Imaging'].map(rating_mapping)\n"
      ],
      "metadata": {
        "id": "dtGSYmC6VYAn"
      },
      "execution_count": 20,
      "outputs": []
    },
    {
      "cell_type": "code",
      "source": [
        "# Standardize textual data\n",
        "df['Facility.Type'] = df['Facility.Type'].str.strip().str.title()\n"
      ],
      "metadata": {
        "id": "lwI4ZutlU5Ta"
      },
      "execution_count": 21,
      "outputs": []
    },
    {
      "cell_type": "code",
      "source": [
        "import pandas as pd\n",
        "import sqlite3\n",
        "\n",
        "# Load the dataset\n",
        "df = pd.read_csv('hospitals.csv')\n",
        "\n",
        "# Display column names to verify\n",
        "print(\"Columns in DataFrame:\")\n",
        "print(df.columns)\n",
        "\n",
        "# Create a connection to an in-memory SQLite database\n",
        "conn = sqlite3.connect(':memory:')\n",
        "\n",
        "# Load the DataFrame into the SQLite database\n",
        "df.to_sql('hospitals', conn, index=False, if_exists='replace')\n",
        "\n",
        "# Ensure columns are treated correctly\n",
        "df['Rating.Overall'] = pd.to_numeric(df['Rating.Overall'], errors='coerce')\n",
        "\n",
        "# Define and execute the SQL query\n",
        "query = \"\"\"\n",
        "SELECT [Facility.State], AVG([Rating.Overall]) AS Average_Rating\n",
        "FROM hospitals\n",
        "GROUP BY [Facility.State]\n",
        "ORDER BY Average_Rating DESC;\n",
        "\"\"\"\n",
        "\n",
        "# Execute the query and load the results into a DataFrame\n",
        "result = pd.read_sql(query, conn)\n",
        "\n",
        "# Display the results\n",
        "print(result)\n"
      ],
      "metadata": {
        "colab": {
          "base_uri": "https://localhost:8080/"
        },
        "id": "plG_U2tUhh5d",
        "outputId": "f9a931a8-8f09-4e87-e3ee-edb4c4327bc6"
      },
      "execution_count": 38,
      "outputs": [
        {
          "output_type": "stream",
          "name": "stdout",
          "text": [
            "Columns in DataFrame:\n",
            "Index(['Facility.Name', 'Facility.City', 'Facility.State', 'Facility.Type',\n",
            "       'Rating.Overall', 'Rating.Mortality', 'Rating.Safety',\n",
            "       'Rating.Readmission', 'Rating.Experience', 'Rating.Effectiveness',\n",
            "       'Rating.Timeliness', 'Rating.Imaging', 'Procedure.Heart Attack.Cost',\n",
            "       'Procedure.Heart Attack.Quality', 'Procedure.Heart Attack.Value',\n",
            "       'Procedure.Heart Failure.Cost', 'Procedure.Heart Failure.Quality',\n",
            "       'Procedure.Heart Failure.Value', 'Procedure.Pneumonia.Cost',\n",
            "       'Procedure.Pneumonia.Quality', 'Procedure.Pneumonia.Value',\n",
            "       'Procedure.Hip Knee.Cost', 'Procedure.Hip Knee.Quality',\n",
            "       'Procedure.Hip Knee.Value'],\n",
            "      dtype='object')\n",
            "   Facility.State  Average_Rating\n",
            "0              NH        3.461538\n",
            "1              ME        3.333333\n",
            "2              RI        3.300000\n",
            "3              WI        3.292683\n",
            "4              IN        3.225000\n",
            "5              MI        2.938931\n",
            "6              VA        2.892857\n",
            "7              OH        2.869048\n",
            "8              OR        2.866667\n",
            "9              SC        2.733333\n",
            "10             VT        2.714286\n",
            "11             MD        2.693878\n",
            "12             IL        2.677778\n",
            "13             NC        2.657143\n",
            "14             MA        2.645161\n",
            "15             NJ        2.575758\n",
            "16             UT        2.543478\n",
            "17             VI        2.500000\n",
            "18             KY        2.483516\n",
            "19             PA        2.479532\n",
            "20             AL        2.422222\n",
            "21             CT        2.387097\n",
            "22             CA        2.364706\n",
            "23             DE        2.285714\n",
            "24             FL        2.250000\n",
            "25             MO        2.243243\n",
            "26             TN        2.238095\n",
            "27             IA        2.215517\n",
            "28             CO        2.195122\n",
            "29             GA        2.189394\n",
            "30             WV        2.102041\n",
            "31             WA        2.098901\n",
            "32             AR        1.922078\n",
            "33             AZ        1.883117\n",
            "34             OK        1.869919\n",
            "35             NY        1.839286\n",
            "36             NE        1.831461\n",
            "37             ID        1.809524\n",
            "38             LA        1.801724\n",
            "39             TX        1.786600\n",
            "40             WY        1.785714\n",
            "41             MN        1.738462\n",
            "42             NM        1.731707\n",
            "43             HI        1.695652\n",
            "44             NV        1.457143\n",
            "45             MS        1.442105\n",
            "46             KS        1.242647\n",
            "47             AK        1.136364\n",
            "48             DC        1.125000\n",
            "49             MT        0.870968\n",
            "50             ND        0.863636\n",
            "51             SD        0.586207\n",
            "52             PR       -0.711538\n",
            "53             MP       -1.000000\n",
            "54             GU       -1.000000\n",
            "55             AS       -1.000000\n"
          ]
        }
      ]
    },
    {
      "cell_type": "code",
      "source": [
        "# SQL query to calculate average cost of procedures\n",
        "query_cost = \"\"\"\n",
        "SELECT\n",
        "    AVG(\"Procedure.Heart Attack.Cost\") AS Avg_Heart_Attack_Cost,\n",
        "    AVG(\"Procedure.Heart Failure.Cost\") AS Avg_Heart_Failure_Cost,\n",
        "    AVG(\"Procedure.Pneumonia.Cost\") AS Avg_Pneumonia_Cost,\n",
        "    AVG(\"Procedure.Hip Knee.Cost\") AS Avg_Hip_Knee_Cost\n",
        "FROM hospitals;\n",
        "\"\"\"\n",
        "\n",
        "# Execute query and fetch results\n",
        "result_cost = pd.read_sql(query_cost, conn)\n",
        "print(\"Average Cost of Procedures:\")\n",
        "print(result_cost)\n"
      ],
      "metadata": {
        "colab": {
          "base_uri": "https://localhost:8080/"
        },
        "id": "pUyJ0je0jWZS",
        "outputId": "026f4da4-9580-45a2-e828-513eff090600"
      },
      "execution_count": 43,
      "outputs": [
        {
          "output_type": "stream",
          "name": "stdout",
          "text": [
            "Average Cost of Procedures:\n",
            "   Avg_Heart_Attack_Cost  Avg_Heart_Failure_Cost  Avg_Pneumonia_Cost  \\\n",
            "0           11360.977997            12149.034367        14625.655071   \n",
            "\n",
            "   Avg_Hip_Knee_Cost  \n",
            "0       12501.068525  \n"
          ]
        }
      ]
    },
    {
      "cell_type": "code",
      "source": [
        "# SQL query to calculate quality ratings distribution for Heart Attack\n",
        "query_quality_heart_attack = \"\"\"\n",
        "SELECT\n",
        "    \"Procedure.Heart Attack.Quality\" AS Quality,\n",
        "    COUNT(*) AS Count\n",
        "FROM hospitals\n",
        "GROUP BY \"Procedure.Heart Attack.Quality\";\n",
        "\"\"\"\n",
        "\n",
        "# Execute query and fetch results\n",
        "result_quality_heart_attack = pd.read_sql(query_quality_heart_attack, conn)\n",
        "print(\"Heart Attack Quality Ratings Distribution:\")\n",
        "print(result_quality_heart_attack)\n",
        "\n",
        "# SQL query to calculate quality ratings distribution for Heart Failure\n",
        "query_quality_heart_failure = \"\"\"\n",
        "SELECT\n",
        "    \"Procedure.Heart Failure.Quality\" AS Quality,\n",
        "    COUNT(*) AS Count\n",
        "FROM hospitals\n",
        "GROUP BY \"Procedure.Heart Failure.Quality\";\n",
        "\"\"\"\n",
        "\n",
        "# Execute query and fetch results\n",
        "result_quality_heart_failure = pd.read_sql(query_quality_heart_failure, conn)\n",
        "print(\"Heart Failure Quality Ratings Distribution:\")\n",
        "print(result_quality_heart_failure)\n",
        "\n",
        "# SQL query to calculate quality ratings distribution for Pneumonia\n",
        "query_quality_pneumonia = \"\"\"\n",
        "SELECT\n",
        "    \"Procedure.Pneumonia.Quality\" AS Quality,\n",
        "    COUNT(*) AS Count\n",
        "FROM hospitals\n",
        "GROUP BY \"Procedure.Pneumonia.Quality\";\n",
        "\"\"\"\n",
        "\n",
        "# Execute query and fetch results\n",
        "result_quality_pneumonia = pd.read_sql(query_quality_pneumonia, conn)\n",
        "print(\"Pneumonia Quality Ratings Distribution:\")\n",
        "print(result_quality_pneumonia)\n",
        "\n",
        "# SQL query to calculate quality ratings distribution for Hip Knee\n",
        "query_quality_hip_knee = \"\"\"\n",
        "SELECT\n",
        "    \"Procedure.Hip Knee.Quality\" AS Quality,\n",
        "    COUNT(*) AS Count\n",
        "FROM hospitals\n",
        "GROUP BY \"Procedure.Hip Knee.Quality\";\n",
        "\"\"\"\n",
        "\n",
        "# Execute query and fetch results\n",
        "result_quality_hip_knee = pd.read_sql(query_quality_hip_knee, conn)\n",
        "print(\"Hip Knee Quality Ratings Distribution:\")\n",
        "print(result_quality_hip_knee)\n"
      ],
      "metadata": {
        "colab": {
          "base_uri": "https://localhost:8080/"
        },
        "id": "x3RgglNZkTT1",
        "outputId": "e32fbc7b-cb4a-4c45-d3ba-b658618f5c3a"
      },
      "execution_count": 45,
      "outputs": [
        {
          "output_type": "stream",
          "name": "stdout",
          "text": [
            "Heart Attack Quality Ratings Distribution:\n",
            "   Quality  Count\n",
            "0  Average   2197\n",
            "1   Better     45\n",
            "2  Unknown   2506\n",
            "3    Worse     24\n",
            "Heart Failure Quality Ratings Distribution:\n",
            "   Quality  Count\n",
            "0  Average   3141\n",
            "1   Better    196\n",
            "2  Unknown   1300\n",
            "3    Worse    135\n",
            "Pneumonia Quality Ratings Distribution:\n",
            "   Quality  Count\n",
            "0  Average   3555\n",
            "1   Better    219\n",
            "2  Unknown    759\n",
            "3    Worse    239\n",
            "Hip Knee Quality Ratings Distribution:\n",
            "   Quality  Count\n",
            "0  Average   2615\n",
            "1   Better     68\n",
            "2  Unknown   2045\n",
            "3    Worse     44\n"
          ]
        }
      ]
    },
    {
      "cell_type": "code",
      "source": [
        "# Highest overall ratings\n",
        "query_high_ratings = \"\"\"\n",
        "SELECT\n",
        "    \"Facility.Name\",\n",
        "    \"Facility.City\",\n",
        "    \"Facility.State\",\n",
        "    \"Rating.Overall\"\n",
        "FROM hospitals\n",
        "ORDER BY \"Rating.Overall\" DESC\n",
        "LIMIT 10;\n",
        "\"\"\"\n",
        "high_ratings_df = pd.read_sql(query_high_ratings, conn)\n",
        "print(\"Facilities with Highest Ratings:\")\n",
        "print(high_ratings_df)\n",
        "\n",
        "# Lowest overall ratings\n",
        "query_low_ratings = \"\"\"\n",
        "SELECT\n",
        "    \"Facility.Name\",\n",
        "    \"Facility.City\",\n",
        "    \"Facility.State\",\n",
        "    \"Rating.Overall\"\n",
        "FROM hospitals\n",
        "ORDER BY \"Rating.Overall\" ASC\n",
        "LIMIT 10;\n",
        "\"\"\"\n",
        "low_ratings_df = pd.read_sql(query_low_ratings, conn)\n",
        "print(\"Facilities with Lowest Ratings:\")\n",
        "print(low_ratings_df)\n"
      ],
      "metadata": {
        "colab": {
          "base_uri": "https://localhost:8080/"
        },
        "id": "jMlua8XyklDa",
        "outputId": "878def7c-4008-4258-cf10-22314dcdd0b4"
      },
      "execution_count": 48,
      "outputs": [
        {
          "output_type": "stream",
          "name": "stdout",
          "text": [
            "Facilities with Highest Ratings:\n",
            "                     Facility.Name Facility.City Facility.State  \\\n",
            "0   Marion Regional Medical Center      Hamilton             AL   \n",
            "1           Fayette Medical Center       Fayette             AL   \n",
            "2      Lakeland Community Hospital    Haleyville             AL   \n",
            "3            St Vincent's St Clair     Pell City             AL   \n",
            "4  Jack Hughston Memorial Hospital   Phenix City             AL   \n",
            "5      Fairbanks Memorial Hospital     Fairbanks             AK   \n",
            "6         Alaska Regional Hospital     Anchorage             AK   \n",
            "7      Verde Valley Medical Center    Cottonwood             AZ   \n",
            "8         Flagstaff Medical Center     Flagstaff             AZ   \n",
            "9             Mayo Clinic Hospital       Phoenix             AZ   \n",
            "\n",
            "   Rating.Overall  \n",
            "0               5  \n",
            "1               5  \n",
            "2               5  \n",
            "3               5  \n",
            "4               5  \n",
            "5               5  \n",
            "6               5  \n",
            "7               5  \n",
            "8               5  \n",
            "9               5  \n",
            "Facilities with Lowest Ratings:\n",
            "                    Facility.Name  Facility.City Facility.State  \\\n",
            "0           Callahan Eye Hospital     Birmingham             AL   \n",
            "1             Bibb Medical Center    Centreville             AL   \n",
            "2           J Paul Jones Hospital         Camden             AL   \n",
            "3         Bullock County Hospital  Union Springs             AL   \n",
            "4  Hill Hospital Of Sumter County           York             AL   \n",
            "5            St Vincent's Chilton        Clanton             AL   \n",
            "6      Washington County Hospital         Chatom             AL   \n",
            "7                Red Bay Hospital        Red Bay             AL   \n",
            "8        Choctaw General Hospital         Butler             AL   \n",
            "9  Children's Hospital Of Alabama     Birmingham             AL   \n",
            "\n",
            "   Rating.Overall  \n",
            "0              -1  \n",
            "1              -1  \n",
            "2              -1  \n",
            "3              -1  \n",
            "4              -1  \n",
            "5              -1  \n",
            "6              -1  \n",
            "7              -1  \n",
            "8              -1  \n",
            "9              -1  \n"
          ]
        }
      ]
    },
    {
      "cell_type": "code",
      "source": [
        "# Analyzing Cost and Quality Correlation\n",
        "# Example for Heart Attack procedure\n",
        "query_cost_quality = \"\"\"\n",
        "SELECT\n",
        "    \"Procedure.Heart Attack.Cost\",\n",
        "    \"Procedure.Heart Attack.Quality\"\n",
        "FROM hospitals;\n",
        "\"\"\"\n",
        "cost_quality_df = pd.read_sql(query_cost_quality, conn)\n",
        "print(\"Heart Attack Procedure Costs and Quality Ratings:\")\n",
        "print(cost_quality_df.head())\n"
      ],
      "metadata": {
        "colab": {
          "base_uri": "https://localhost:8080/"
        },
        "id": "MiQzHk8Ilhyq",
        "outputId": "34026321-73bd-4973-eb14-daac8142ffde"
      },
      "execution_count": 51,
      "outputs": [
        {
          "output_type": "stream",
          "name": "stdout",
          "text": [
            "Heart Attack Procedure Costs and Quality Ratings:\n",
            "   Procedure.Heart Attack.Cost Procedure.Heart Attack.Quality\n",
            "0                        23394                        Average\n",
            "1                        22579                        Average\n",
            "2                        24002                        Average\n",
            "3                            0                        Unknown\n",
            "4                            0                        Unknown\n"
          ]
        }
      ]
    },
    {
      "cell_type": "code",
      "source": [
        "query_avg_cost_by_type = \"\"\"\n",
        "SELECT\n",
        "    \"Facility.Type\",\n",
        "    AVG(\"Procedure.Heart Attack.Cost\") AS Avg_Heart_Attack_Cost,\n",
        "    AVG(\"Procedure.Heart Failure.Cost\") AS Avg_Heart_Failure_Cost,\n",
        "    AVG(\"Procedure.Pneumonia.Cost\") AS Avg_Pneumonia_Cost,\n",
        "    AVG(\"Procedure.Hip Knee.Cost\") AS Avg_Hip_Knee_Cost\n",
        "FROM hospitals\n",
        "GROUP BY \"Facility.Type\";\n",
        "\"\"\"\n",
        "avg_cost_by_type_df = pd.read_sql(query_avg_cost_by_type, conn)\n",
        "print(\"Average Cost by Facility Type:\")\n",
        "print(avg_cost_by_type_df)\n"
      ],
      "metadata": {
        "colab": {
          "base_uri": "https://localhost:8080/"
        },
        "id": "D-GMsIkblmIt",
        "outputId": "73bb2ce7-1f47-4030-9770-572587982e12"
      },
      "execution_count": 52,
      "outputs": [
        {
          "output_type": "stream",
          "name": "stdout",
          "text": [
            "Average Cost by Facility Type:\n",
            "  Facility.Type  Avg_Heart_Attack_Cost  Avg_Heart_Failure_Cost  \\\n",
            "0        Church           16265.768293            14869.365854   \n",
            "1    Government            6027.008459             9596.105263   \n",
            "2       Private           12721.279115            13049.343118   \n",
            "3   Proprietary           13133.129397            12487.017588   \n",
            "4       Unknown           11023.496047            11524.867589   \n",
            "\n",
            "   Avg_Pneumonia_Cost  Avg_Hip_Knee_Cost  \n",
            "0        16665.143293       16521.463415  \n",
            "1        13625.069549        7859.474624  \n",
            "2        15261.036092       13493.098171  \n",
            "3        14268.724874       13715.302764  \n",
            "4        13359.776680       13671.025692  \n"
          ]
        }
      ]
    },
    {
      "cell_type": "code",
      "source": [
        "import matplotlib.pyplot as plt\n",
        "\n",
        "# Plotting average costs\n",
        "avg_cost_by_type_df.plot(kind='bar', x='Facility.Type', figsize=(10, 6))\n",
        "plt.title('Average Cost by Facility Type')\n",
        "plt.ylabel('Average Cost')\n",
        "plt.xlabel('Facility Type')\n",
        "plt.xticks(rotation=45)\n",
        "plt.tight_layout()\n",
        "plt.show()\n"
      ],
      "metadata": {
        "colab": {
          "base_uri": "https://localhost:8080/",
          "height": 607
        },
        "id": "1Mqw6VeOl5Hb",
        "outputId": "df0c02b1-2fe2-4a70-f99e-456ae2ec87f1"
      },
      "execution_count": 53,
      "outputs": [
        {
          "output_type": "display_data",
          "data": {
            "text/plain": [
              "<Figure size 1000x600 with 1 Axes>"
            ],
            "image/png": "[encoded data removed]"
          },
          "metadata": {}
        }
      ]
    },
    {
      "cell_type": "code",
      "source": [
        "import seaborn as sns\n",
        "\n",
        "# Highest and Lowest Ratings\n",
        "fig, ax = plt.subplots(2, 1, figsize=(12, 12))\n",
        "\n",
        "sns.barplot(x='Rating.Overall', y='Facility.Name', data=high_ratings_df, ax=ax[0], palette='viridis')\n",
        "ax[0].set_title('Facilities with Highest Ratings')\n",
        "\n",
        "sns.barplot(x='Rating.Overall', y='Facility.Name', data=low_ratings_df, ax=ax[1], palette='viridis')\n",
        "ax[1].set_title('Facilities with Lowest Ratings')\n",
        "\n",
        "plt.tight_layout()\n",
        "plt.show()\n"
      ],
      "metadata": {
        "colab": {
          "base_uri": "https://localhost:8080/",
          "height": 1000
        },
        "id": "d5heo80Xl7Sv",
        "outputId": "032ce024-9990-4e87-aab2-9cb7e574af67"
      },
      "execution_count": 54,
      "outputs": [
        {
          "output_type": "stream",
          "name": "stderr",
          "text": [
            "<ipython-input-54-27703e475244>:6: FutureWarning: \n",
            "\n",
            "Passing `palette` without assigning `hue` is deprecated and will be removed in v0.14.0. Assign the `y` variable to `hue` and set `legend=False` for the same effect.\n",
            "\n",
            "  sns.barplot(x='Rating.Overall', y='Facility.Name', data=high_ratings_df, ax=ax[0], palette='viridis')\n",
            "<ipython-input-54-27703e475244>:9: FutureWarning: \n",
            "\n",
            "Passing `palette` without assigning `hue` is deprecated and will be removed in v0.14.0. Assign the `y` variable to `hue` and set `legend=False` for the same effect.\n",
            "\n",
            "  sns.barplot(x='Rating.Overall', y='Facility.Name', data=low_ratings_df, ax=ax[1], palette='viridis')\n"
          ]
        },
        {
          "output_type": "display_data",
          "data": {
            "text/plain": [
              "<Figure size 1200x1200 with 2 Axes>"
            ],
            "image/png": "[encoded data removed]"
          },
          "metadata": {}
        }
      ]
    }
  ]
}